{
 "cells": [
  {
   "cell_type": "code",
   "execution_count": null,
   "metadata": {},
   "outputs": [],
   "source": [
    "import os\n",
    "import re\n",
    "import imaplib\n",
    "\n",
    "from dotenv import load_dotenv\n",
    "from datetime import datetime"
   ]
  },
  {
   "cell_type": "code",
   "execution_count": null,
   "metadata": {},
   "outputs": [],
   "source": [
    "from main import get_transactions_from_imap, save_transactions_to_file, export_transactions_text"
   ]
  },
  {
   "attachments": {},
   "cell_type": "markdown",
   "metadata": {},
   "source": []
  },
  {
   "cell_type": "code",
   "execution_count": null,
   "metadata": {},
   "outputs": [],
   "source": [
    "load_dotenv()\n",
    "\n",
    "IMAP_USER_EMAIL_ADDRESS = os.getenv('IMAP_USER_EMAIL_ADDRESS')\n",
    "IMAP_USER_PASSWORD = os.getenv('IMAP_USER_PASSWORD')\n",
    "IMAP_SERVER = os.getenv('IMAP_SERVER')\n",
    "IMAP_FILTER=os.getenv('IMAP_FILTER')\n",
    "\n",
    "# Fetch the environment variable 'IMAP_BANK_MSG_STARTS' and split it by |.\n",
    "# to get a list of start strings for bank messages. This is done to handle\n",
    "# multiple possible start strings for different types of bank messages.\n",
    "IMAP_BANK_MSG_STARTS = os.getenv('IMAP_BANK_MSG_STARTS').split('|')\n",
    "\n",
    "IMAP_BANK_MSG_END=os.getenv('IMAP_BANK_MSG_END')\n",
    "REGEX_BANK_FILE=os.getenv('REGEX_BANK_FILE')"
   ]
  },
  {
   "cell_type": "code",
   "execution_count": null,
   "metadata": {},
   "outputs": [],
   "source": [
    "# this is done to make SSL connection with GMAIL\n",
    "imap_con = imaplib.IMAP4_SSL(IMAP_SERVER)\n",
    "\n",
    "# logging the user in\n",
    "imap_con.login(IMAP_USER_EMAIL_ADDRESS, IMAP_USER_PASSWORD)\n",
    "\n",
    "# calling function to check for email under this label\n",
    "imap_con.select('Inbox')\n",
    "\n",
    "(transactions_text, email_with_problems, emails_without_transactions) = get_transactions_from_imap(imap_con)"
   ]
  },
  {
   "cell_type": "code",
   "execution_count": null,
   "metadata": {},
   "outputs": [],
   "source": [
    "emails_without_transactions"
   ]
  },
  {
   "cell_type": "code",
   "execution_count": null,
   "metadata": {},
   "outputs": [],
   "source": [
    "notification_regex = []\n",
    "with open(REGEX_BANK_FILE) as regex_bank_file:\n",
    "    for line in regex_bank_file:\n",
    "        notification_regex.append(line.strip('\\n'))\n",
    "\n",
    "now = datetime.now()\n",
    "dt_string = now.strftime(\"%Y-%m-%d_%H:%M:%S\")\n",
    "csv_outputfile = f\"target/transactions-{dt_string}.csv\"\n",
    "text_outputfile = f\"target/transactions-{dt_string}.text\"\n",
    "save_transactions_to_file(transactions_text, text_outputfile)\n",
    "export_transactions_text(transactions_text, notification_regex, \"csv\", csv_outputfile)"
   ]
  }
 ],
 "metadata": {
  "kernelspec": {
   "display_name": "Python 3",
   "language": "python",
   "name": "python3"
  },
  "language_info": {
   "codemirror_mode": {
    "name": "ipython",
    "version": 3
   },
   "file_extension": ".py",
   "mimetype": "text/x-python",
   "name": "python",
   "nbconvert_exporter": "python",
   "pygments_lexer": "ipython3",
   "version": "3.10.6"
  },
  "orig_nbformat": 4
 },
 "nbformat": 4,
 "nbformat_minor": 2
}
