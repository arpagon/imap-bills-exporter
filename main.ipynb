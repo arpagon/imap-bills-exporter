{
 "cells": [
  {
   "cell_type": "code",
   "execution_count": null,
   "metadata": {},
   "outputs": [],
   "source": [
    "import os\n",
    "import re\n",
    "import imaplib\n",
    "\n",
    "from dotenv import load_dotenv\n",
    "from datetime import datetime\n",
    "import pandas as pd"
   ]
  },
  {
   "cell_type": "code",
   "execution_count": null,
   "metadata": {},
   "outputs": [],
   "source": [
    "from main import (\n",
    "    get_transactions_from_imap, \n",
    "    save_transactions_to_file, \n",
    "    export_transactions_text, \n",
    "    remove_duplicates_from_list,\n",
    "    export_transactions_df\n",
    ")"
   ]
  },
  {
   "attachments": {},
   "cell_type": "markdown",
   "metadata": {},
   "source": []
  },
  {
   "cell_type": "code",
   "execution_count": null,
   "metadata": {},
   "outputs": [],
   "source": [
    "load_dotenv()\n",
    "\n",
    "IMAP_USER_EMAIL_ADDRESS = os.getenv('IMAP_USER_EMAIL_ADDRESS')\n",
    "IMAP_USER_PASSWORD = os.getenv('IMAP_USER_PASSWORD')\n",
    "IMAP_SERVER = os.getenv('IMAP_SERVER')\n",
    "IMAP_FILTER=os.getenv('IMAP_FILTER')\n",
    "\n",
    "# Fetch the environment variable 'IMAP_BANK_MSG_STARTS' and split it by |.\n",
    "# to get a list of start strings for bank messages. This is done to handle\n",
    "# multiple possible start strings for different types of bank messages.\n",
    "IMAP_BANK_MSG_STARTS = os.getenv('IMAP_BANK_MSG_STARTS').split('|')\n",
    "\n",
    "IMAP_BANK_MSG_END=os.getenv('IMAP_BANK_MSG_END')\n",
    "REGEX_BANK_FILE=os.getenv('REGEX_BANK_FILE')"
   ]
  },
  {
   "cell_type": "code",
   "execution_count": null,
   "metadata": {},
   "outputs": [],
   "source": [
    "# this is done to make SSL connection with GMAIL\n",
    "imap_con = imaplib.IMAP4_SSL(IMAP_SERVER)\n",
    "\n",
    "# logging the user in\n",
    "imap_con.login(IMAP_USER_EMAIL_ADDRESS, IMAP_USER_PASSWORD)\n",
    "\n",
    "# calling function to check for email under this label\n",
    "imap_con.select('Inbox')\n",
    "\n",
    "(transactions_text, email_with_problems, emails_without_transactions) = get_transactions_from_imap(imap_con)"
   ]
  },
  {
   "cell_type": "code",
   "execution_count": null,
   "metadata": {},
   "outputs": [],
   "source": [
    "transactions_text_without_duplicates = remove_duplicates_from_list(transactions_text)"
   ]
  },
  {
   "cell_type": "code",
   "execution_count": null,
   "metadata": {},
   "outputs": [],
   "source": [
    "notification_regex = []\n",
    "with open(REGEX_BANK_FILE) as regex_bank_file:\n",
    "    for line in regex_bank_file:\n",
    "        notification_regex.append(line.strip('\\n'))\n",
    "\n",
    "now = datetime.now()\n",
    "dt_string = now.strftime(\"%Y-%m-%d_%H:%M:%S\")\n",
    "csv_outputfile = f\"target/transactions-{dt_string}.csv\"\n",
    "text_outputfile = f\"target/transactions-{dt_string}.text\"\n",
    "save_transactions_to_file(transactions_text_without_duplicates, text_outputfile)\n",
    "export_transactions_text(\n",
    "    transactions_text=transactions_text_without_duplicates, \n",
    "    transaction_regex=notification_regex, \n",
    "    format=\"csv\",\n",
    "    outputfile=csv_outputfile\n",
    ")\n",
    "\n",
    "df_transactions=export_transactions_df(transactions_text_without_duplicates, notification_regex)"
   ]
  },
  {
   "cell_type": "code",
   "execution_count": null,
   "metadata": {},
   "outputs": [],
   "source": [
    "df_transactions"
   ]
  },
  {
   "cell_type": "code",
   "execution_count": null,
   "metadata": {},
   "outputs": [],
   "source": [
    "import pandas as pd\n",
    "import re\n",
    "\n",
    "# Load CSVs\n",
    "df_accounts = pd.read_csv(\"accounts.csv\", dtype={\"DestAccount\": str})\n",
    "df_trips = pd.read_csv(\"trips.csv\")\n",
    "df_provider_name = pd.read_csv(\"ProviderName.csv\")\n",
    "\n",
    "# Function to determine trip name\n",
    "def get_trip_name(date):\n",
    "    for idx, row in df_trips.iterrows():\n",
    "        if row['StartDate'] <= date <= row['EndDate']:\n",
    "            return row['TripName']\n",
    "    return None\n",
    "\n",
    "# Function to determine trip spend type\n",
    "def get_trip_spendtype(date):\n",
    "    for idx, row in df_trips.iterrows():\n",
    "        if row['StartDate'] <= date <= row['EndDate']:\n",
    "            return row['SpendType']\n",
    "    return None\n",
    "\n",
    "# Function to clean and standardize text\n",
    "def clean_text(text):\n",
    "    clean = text.lower()  # Convert to lowercase\n",
    "    clean = re.sub(r'[^a-z0-9\\s]', '', clean)  # Remove special characters\n",
    "    clean = re.sub(r'\\s+', ' ', clean).strip()  # Replace multiple spaces with a single space and trim\n",
    "    return clean\n",
    "\n",
    "# Apply the cleaning function to 'dest' column and store in 'DestClean'\n",
    "df_transactions['DestClean'] = df_transactions['dest'].apply(clean_text)\n",
    "\n",
    "# Clean the provider names as well for consistent matching\n",
    "df_provider_name['ProviderDestNameClean'] = df_provider_name['ProviderDestName'].apply(clean_text)\n",
    "\n",
    "# Function to apply provider rules using the cleaned data\n",
    "def apply_provider_rules_clean(row):\n",
    "    if pd.isna(row['SpendType']):\n",
    "        for idx, provider_rule in df_provider_name.iterrows():\n",
    "            if provider_rule['Filter'] == 'contains' and provider_rule['ProviderDestNameClean'] in row['DestClean']:\n",
    "                row['SpendType'] = provider_rule['SpendType']\n",
    "                row['ProviderGroup'] = provider_rule['ProviderGroup']\n",
    "                return row\n",
    "    return row\n",
    "\n",
    "# Merge transactions with accounts based on 'DestClean'\n",
    "df_merged = df_transactions.merge(df_accounts, left_on='DestClean', right_on='DestAccount', how='left')\n",
    "\n",
    "# Convert date columns to datetime\n",
    "df_merged['DateTime'] = pd.to_datetime(df_merged['DateTime'])\n",
    "df_trips['StartDate'] = pd.to_datetime(df_trips['StartDate'])\n",
    "df_trips['EndDate'] = pd.to_datetime(df_trips['EndDate'])\n",
    "\n",
    "# Add TripName and SpendType based on the transaction date\n",
    "df_merged['TripName'] = df_merged['DateTime'].apply(get_trip_name)\n",
    "df_merged['SpendType'] = df_merged['DateTime'].apply(get_trip_spendtype).combine_first(df_merged['SpendType'])\n",
    "\n",
    "# Assign 'withdraw' to SpendType for transactions with type 'retiro'\n",
    "df_merged.loc[df_merged['Type'] == 'Retiro', 'SpendType'] = 'withdraw'\n",
    "\n",
    "# Create ProviderGroup column\n",
    "df_merged['ProviderGroup'] = None\n",
    "\n",
    "# Apply provider rules using the cleaned data\n",
    "df_merged = df_merged.apply(apply_provider_rules_clean, axis=1)\n"
   ]
  },
  {
   "cell_type": "code",
   "execution_count": null,
   "metadata": {},
   "outputs": [],
   "source": [
    "# Filter out transactions that are not categorized\n",
    "uncategorized = df_merged[df_merged['SpendType'].isna()]\n",
    "\n",
    "# Group by month and sum the amounts\n",
    "monthly_uncategorized = uncategorized.groupby(uncategorized['DateTime'].dt.strftime('%Y-%m'))['ValueFloat'].sum().reset_index()\n",
    "monthly_uncategorized.columns = ['Month', 'TotalUncategorized']\n",
    "\n",
    "# Calculate the total amount not categorized\n",
    "total_uncategorized = monthly_uncategorized['TotalUncategorized'].sum()\n",
    "\n",
    "# Convert the total amount and monthly amounts to millions\n",
    "total_uncategorized_millions = total_uncategorized / 1_000_000\n",
    "monthly_uncategorized['TotalUncategorized'] = monthly_uncategorized['TotalUncategorized'] / 1_000_000\n",
    "\n",
    "print(f\"Total no categorizado: {total_uncategorized_millions:.2f} millones de pesos\")\n",
    "\n",
    "# Filter out transactions that have not been categorized\n",
    "uncategorized = df_merged[df_merged['SpendType'].isna()]\n",
    "\n",
    "# Get the top 10 most frequent uncategorized transactions based on ValueFloat\n",
    "most_frequent_by_value = uncategorized.groupby('DestClean').agg(Count=('DestClean', 'size'), TotalValue=('ValueFloat', 'sum')).nlargest(50, 'TotalValue')\n",
    "\n",
    "print(\"Top 50 transacciones no categorizadas basadas en el valor total:\")\n",
    "print(most_frequent_by_value)\n"
   ]
  },
  {
   "cell_type": "code",
   "execution_count": null,
   "metadata": {},
   "outputs": [],
   "source": [
    "df_merged"
   ]
  },
  {
   "cell_type": "code",
   "execution_count": null,
   "metadata": {},
   "outputs": [],
   "source": [
    "import matplotlib.pyplot as plt\n",
    "\n",
    "# Group by SpendType and sum the ValueFloat\n",
    "spendtype_summary = df_merged.groupby('SpendType')['ValueFloat'].sum().sort_values(ascending=False)\n",
    "\n",
    "# Plot\n",
    "plt.figure(figsize=(15,10))\n",
    "spendtype_summary.plot(kind='bar', color='skyblue')\n",
    "plt.title('Total Expenditure by SpendType')\n",
    "plt.ylabel('Total Expenditure')\n",
    "plt.xlabel('SpendType')\n",
    "plt.xticks(rotation=45, ha='right')\n",
    "plt.tight_layout()\n",
    "\n",
    "plt.show()\n"
   ]
  },
  {
   "cell_type": "code",
   "execution_count": null,
   "metadata": {},
   "outputs": [],
   "source": [
    "import seaborn as sns\n",
    "import matplotlib.pyplot as plt\n",
    "\n",
    "# Grouping the data by month and SpendType and summing the amounts\n",
    "monthly_spendtype_data = df_merged.groupby([df_merged['DateTime'].dt.strftime('%Y-%m'), 'SpendType'])['ValueFloat'].sum().reset_index()\n",
    "\n",
    "# Reshaping the data for heatmap\n",
    "heatmap_data = monthly_spendtype_data.pivot(index='DateTime', columns='SpendType', values='ValueFloat')\n",
    "heatmap_data = heatmap_data.fillna(0)  # Replacing NaN values with 0 for the heatmap\n",
    "\n",
    "# Plotting the heatmap\n",
    "plt.figure(figsize=(15, 8))\n",
    "sns.heatmap(heatmap_data, cmap='YlGnBu', annot=True, fmt=\".0f\", linewidths=.5)\n",
    "plt.title('Monthly Spending by Spend Type')\n",
    "plt.ylabel('Month')\n",
    "plt.xlabel('Type of Spend')\n",
    "plt.tight_layout()\n",
    "\n",
    "plt.show()\n"
   ]
  },
  {
   "cell_type": "code",
   "execution_count": null,
   "metadata": {},
   "outputs": [],
   "source": [
    "# Adjusting the data to ensure alignment of withdrawals with expenses and income\n",
    "# Grouping the data by month for 2022 and summing the expenses\n",
    "data_2022 = df_merged[df_merged['DateTime'].dt.year == 2022].groupby(df_merged['DateTime'].dt.strftime('%Y-%m')).agg(TotalExpenses=('ValueFloat', 'sum')).reset_index()\n",
    "\n",
    "# Grouping the data by month for 2022 and summing the withdrawals\n",
    "withdrawals_2022 = df_merged[(df_merged['DateTime'].dt.year == 2022) & (df_merged['Type'] == 'Retiro')].groupby(df_merged['DateTime'].dt.strftime('%Y-%m')).agg(TotalWithdrawals=('ValueFloat', 'sum')).reset_index()\n",
    "\n",
    "# Merging the two datasets on month-year\n",
    "data_2022 = data_2022.merge(withdrawals_2022, on='DateTime', how='left')\n",
    "data_2022['TotalWithdrawals'].fillna(0, inplace=True)  # Replacing NaN values with 0\n",
    "data_2022['Income'] = 7500000  # Your monthly income\n",
    "\n",
    "# Plotting the monthly comparison\n",
    "plt.figure(figsize=(15, 7))\n",
    "sns.barplot(data=data_2022, x='DateTime', y='Income', color='lightgreen', label='Ingresos')\n",
    "sns.barplot(data=data_2022, x='DateTime', y='TotalExpenses', color='skyblue', label='Gastos Totales')\n",
    "sns.barplot(data=data_2022, x='DateTime', y='TotalWithdrawals', bottom=data_2022['TotalExpenses'], color='salmon', label='Retiros Totales')\n",
    "plt.title('Comparación de Salario vs. Gastos y Retiros por Mes (2022)')\n",
    "plt.ylabel('Cantidad (en millones de pesos)')\n",
    "plt.xlabel('Mes (2022)')\n",
    "plt.legend()\n",
    "plt.tight_layout()\n",
    "\n",
    "plt.show()\n"
   ]
  },
  {
   "cell_type": "code",
   "execution_count": null,
   "metadata": {},
   "outputs": [],
   "source": [
    "# Filtering data for transactions related to trips\n",
    "trip_data = df_merged[~df_merged['TripName'].isna()]\n",
    "\n",
    "# Plotting the trip expenses over time\n",
    "plt.figure(figsize=(15, 7))\n",
    "sns.lineplot(data=trip_data, x='DateTime', y='ValueFloat', hue='TripName', marker='o')\n",
    "plt.title('Gastos Relacionados con Viajes a lo Largo del Tiempo')\n",
    "plt.ylabel('Cantidad (en pesos)')\n",
    "plt.xlabel('Fecha')\n",
    "plt.legend(title='Nombre del Viaje')\n",
    "plt.tight_layout()\n",
    "\n",
    "plt.show()\n"
   ]
  },
  {
   "cell_type": "code",
   "execution_count": null,
   "metadata": {},
   "outputs": [],
   "source": [
    "# Plotting\n",
    "import matplotlib.pyplot as plt\n",
    "import seaborn as sns\n",
    "\n",
    "plt.figure(figsize=(12, 6))\n",
    "sns.barplot(data=monthly_uncategorized, x='Month', y='TotalUncategorized', palette=\"Blues_d\")\n",
    "plt.title('Monto no categorizado por mes (en millones de pesos)')\n",
    "plt.ylabel('Monto (en millones)')\n",
    "plt.xlabel('Mes')\n",
    "plt.xticks(rotation=45)\n",
    "plt.tight_layout()\n",
    "plt.show()\n"
   ]
  },
  {
   "cell_type": "code",
   "execution_count": null,
   "metadata": {},
   "outputs": [],
   "source": [
    "text_outputfile = f\"target/transactions-final-{dt_string}.csv\"\n",
    "df_merged.to_csv(text_outputfile, index=False)"
   ]
  }
 ],
 "metadata": {
  "kernelspec": {
   "display_name": "Python 3",
   "language": "python",
   "name": "python3"
  },
  "language_info": {
   "codemirror_mode": {
    "name": "ipython",
    "version": 3
   },
   "file_extension": ".py",
   "mimetype": "text/x-python",
   "name": "python",
   "nbconvert_exporter": "python",
   "pygments_lexer": "ipython3",
   "version": "3.10.6"
  },
  "orig_nbformat": 4
 },
 "nbformat": 4,
 "nbformat_minor": 2
}
